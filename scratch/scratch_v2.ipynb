{
 "cells": [
  {
   "cell_type": "code",
   "execution_count": 94,
   "metadata": {},
   "outputs": [],
   "source": [
    "import json\n",
    "import re"
   ]
  },
  {
   "cell_type": "code",
   "execution_count": 95,
   "metadata": {},
   "outputs": [],
   "source": [
    "def loadAndDump(filename, coin_name):\n",
    "    ## Loading coin data and encode the data in json file\n",
    "    coin = {}\n",
    "    coin[\"description\"] = coin_name +\" data from coinmarketcap\"\n",
    "    coin[\"column_names\"] = ['Date', 'Open', 'High', 'Low', 'Close', 'Volume', 'Market Cap']\n",
    "    coin[\"data\"] = []    \n",
    "    with open(filename,\"rb\") as f:\n",
    "        for l in f:\n",
    "            l = re.sub(',', '',l[:-1])\n",
    "            l = re.sub('-', '0',l)\n",
    "            d = l.split('\\t')\n",
    "            d[1:] = map(float,d[1:])\n",
    "            coin[\"data\"].append(d)\n",
    "    with open(filename+'.json', 'wb') as fp:\n",
    "        json.dump(BTC, fp,sort_keys=True,indent=4, separators=(',', ': '))  "
   ]
  },
  {
   "cell_type": "code",
   "execution_count": 96,
   "metadata": {},
   "outputs": [],
   "source": [
    "## Loading BTC data and encode the data in json file\n",
    "loadAndDump(\"BTC_USD(coinmarketcap)\", \"Bit Coin\")"
   ]
  },
  {
   "cell_type": "code",
   "execution_count": 97,
   "metadata": {},
   "outputs": [],
   "source": [
    "## Loading BTC data and encode the data in json file\n",
    "loadAndDump(\"ETH_USD(coinmarketcap)\", \"Ethereum\")"
   ]
  },
  {
   "cell_type": "code",
   "execution_count": 98,
   "metadata": {},
   "outputs": [],
   "source": [
    "## Loading Ripple data and encode the data in json file\n",
    "loadAndDump(\"RIPPLE_USD(coinmarketcap)\", \"Ripple\")"
   ]
  },
  {
   "cell_type": "code",
   "execution_count": 80,
   "metadata": {},
   "outputs": [],
   "source": []
  },
  {
   "cell_type": "code",
   "execution_count": 52,
   "metadata": {},
   "outputs": [],
   "source": []
  },
  {
   "cell_type": "code",
   "execution_count": null,
   "metadata": {},
   "outputs": [],
   "source": []
  },
  {
   "cell_type": "code",
   "execution_count": null,
   "metadata": {},
   "outputs": [],
   "source": []
  }
 ],
 "metadata": {
  "kernelspec": {
   "display_name": "Python 2",
   "language": "python",
   "name": "python2"
  },
  "language_info": {
   "codemirror_mode": {
    "name": "ipython",
    "version": 2
   },
   "file_extension": ".py",
   "mimetype": "text/x-python",
   "name": "python",
   "nbconvert_exporter": "python",
   "pygments_lexer": "ipython2",
   "version": "2.7.12"
  }
 },
 "nbformat": 4,
 "nbformat_minor": 2
}
